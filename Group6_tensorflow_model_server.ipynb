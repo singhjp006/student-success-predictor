{
  "cells": [
    {
      "cell_type": "code",
      "execution_count": null,
      "metadata": {
        "id": "rsKALtZkAIfd"
      },
      "outputs": [],
      "source": [
        "import sys\n",
        "# We need sudo prefix if not on a Google Colab.\n",
        "if 'google.colab' not in sys.modules:\n",
        "  SUDO_IF_NEEDED = 'sudo'\n",
        "else:\n",
        "  SUDO_IF_NEEDED = ''"
      ]
    },
    {
      "cell_type": "code",
      "execution_count": null,
      "metadata": {
        "colab": {
          "base_uri": "https://localhost:8080/"
        },
        "id": "_2Q1dt6fARyl",
        "outputId": "dcf28760-f886-47a8-e092-65122ed24792"
      },
      "outputs": [
        {
          "name": "stdout",
          "output_type": "stream",
          "text": [
            "deb http://storage.googleapis.com/tensorflow-serving-apt stable tensorflow-model-server tensorflow-model-server-universal\n",
            "  % Total    % Received % Xferd  Average Speed   Time    Time     Time  Current\n",
            "                                 Dload  Upload   Total   Spent    Left  Speed\n",
            "\r  0     0    0     0    0     0      0      0 --:--:-- --:--:-- --:--:--     0\r100  2943  100  2943    0     0    99k      0 --:--:-- --:--:-- --:--:--   99k\n",
            "OK\n",
            "Get:1 http://storage.googleapis.com/tensorflow-serving-apt stable InRelease [3,012 B]\n",
            "Get:2 http://security.ubuntu.com/ubuntu bionic-security InRelease [88.7 kB]\n",
            "Get:3 https://cloud.r-project.org/bin/linux/ubuntu bionic-cran40/ InRelease [3,626 B]\n",
            "Ign:4 https://developer.download.nvidia.com/compute/cuda/repos/ubuntu1804/x86_64  InRelease\n",
            "Hit:5 http://archive.ubuntu.com/ubuntu bionic InRelease\n",
            "Get:6 http://ppa.launchpad.net/c2d4u.team/c2d4u4.0+/ubuntu bionic InRelease [15.9 kB]\n",
            "Ign:7 https://developer.download.nvidia.com/compute/machine-learning/repos/ubuntu1804/x86_64  InRelease\n",
            "Hit:8 https://developer.download.nvidia.com/compute/cuda/repos/ubuntu1804/x86_64  Release\n",
            "Hit:9 https://developer.download.nvidia.com/compute/machine-learning/repos/ubuntu1804/x86_64  Release\n",
            "Get:10 http://archive.ubuntu.com/ubuntu bionic-updates InRelease [88.7 kB]\n",
            "Get:11 http://storage.googleapis.com/tensorflow-serving-apt stable/tensorflow-model-server-universal amd64 Packages [348 B]\n",
            "Get:12 http://storage.googleapis.com/tensorflow-serving-apt stable/tensorflow-model-server amd64 Packages [339 B]\n",
            "Hit:13 http://ppa.launchpad.net/cran/libgit2/ubuntu bionic InRelease\n",
            "Get:14 http://security.ubuntu.com/ubuntu bionic-security/restricted amd64 Packages [691 kB]\n",
            "Get:15 http://archive.ubuntu.com/ubuntu bionic-backports InRelease [74.6 kB]\n",
            "Get:16 http://ppa.launchpad.net/deadsnakes/ppa/ubuntu bionic InRelease [15.9 kB]\n",
            "Get:17 http://security.ubuntu.com/ubuntu bionic-security/main amd64 Packages [2,461 kB]\n",
            "Get:18 http://security.ubuntu.com/ubuntu bionic-security/universe amd64 Packages [1,451 kB]\n",
            "Hit:19 http://ppa.launchpad.net/graphics-drivers/ppa/ubuntu bionic InRelease\n",
            "Get:20 https://cloud.r-project.org/bin/linux/ubuntu bionic-cran40/ Packages [73.9 kB]\n",
            "Get:23 http://ppa.launchpad.net/c2d4u.team/c2d4u4.0+/ubuntu bionic/main Sources [1,820 kB]\n",
            "Get:24 http://archive.ubuntu.com/ubuntu bionic-updates/main amd64 Packages [2,898 kB]\n",
            "Get:25 http://ppa.launchpad.net/c2d4u.team/c2d4u4.0+/ubuntu bionic/main amd64 Packages [933 kB]\n",
            "Get:26 http://archive.ubuntu.com/ubuntu bionic-updates/universe amd64 Packages [2,229 kB]\n",
            "Get:27 http://ppa.launchpad.net/deadsnakes/ppa/ubuntu bionic/main amd64 Packages [45.9 kB]\n",
            "Fetched 12.9 MB in 4s (3,230 kB/s)\n",
            "Reading package lists... Done\n",
            "Building dependency tree       \n",
            "Reading state information... Done\n",
            "69 packages can be upgraded. Run 'apt list --upgradable' to see them.\n"
          ]
        }
      ],
      "source": [
        "!echo \"deb http://storage.googleapis.com/tensorflow-serving-apt stable tensorflow-model-server tensorflow-model-server-universal\" | {SUDO_IF_NEEDED} tee /etc/apt/sources.list.d/tensorflow-serving.list && \\\n",
        "curl https://storage.googleapis.com/tensorflow-serving-apt/tensorflow-serving.release.pub.gpg | {SUDO_IF_NEEDED} apt-key add -\n",
        "!{SUDO_IF_NEEDED} apt update"
      ]
    },
    {
      "cell_type": "code",
      "execution_count": null,
      "metadata": {
        "colab": {
          "base_uri": "https://localhost:8080/"
        },
        "id": "sCvS-JtRAZTm",
        "outputId": "6d43ef40-ec4f-4270-8f63-8479c09f656a"
      },
      "outputs": [
        {
          "name": "stdout",
          "output_type": "stream",
          "text": [
            "Reading package lists... Done\n",
            "Building dependency tree       \n",
            "Reading state information... Done\n",
            "The following NEW packages will be installed:\n",
            "  tensorflow-model-server\n",
            "0 upgraded, 1 newly installed, 0 to remove and 69 not upgraded.\n",
            "Need to get 335 MB of archives.\n",
            "After this operation, 0 B of additional disk space will be used.\n",
            "Get:1 http://storage.googleapis.com/tensorflow-serving-apt stable/tensorflow-model-server amd64 tensorflow-model-server all 2.7.0 [335 MB]\n",
            "Fetched 335 MB in 6s (60.5 MB/s)\n",
            "Selecting previously unselected package tensorflow-model-server.\n",
            "(Reading database ... 155222 files and directories currently installed.)\n",
            "Preparing to unpack .../tensorflow-model-server_2.7.0_all.deb ...\n",
            "Unpacking tensorflow-model-server (2.7.0) ...\n",
            "Setting up tensorflow-model-server (2.7.0) ...\n"
          ]
        }
      ],
      "source": [
        "!apt-get install tensorflow-model-server"
      ]
    },
    {
      "cell_type": "code",
      "execution_count": null,
      "metadata": {
        "id": "2PDKhsoQBPSv"
      },
      "outputs": [],
      "source": [
        "import os\n",
        "os.environ[\"MODEL_DIR\"] = \"/content/drive/MyDrive/Colab Notebooks/NN_model\""
      ]
    },
    {
      "cell_type": "code",
      "execution_count": null,
      "metadata": {
        "colab": {
          "base_uri": "https://localhost:8080/"
        },
        "id": "5vqH_nP2Er4K",
        "outputId": "5f90bd1b-ddd4-402f-baf8-e1b690dc5b2c"
      },
      "outputs": [
        {
          "name": "stdout",
          "output_type": "stream",
          "text": [
            "Starting job # 0 in a separate thread.\n"
          ]
        }
      ],
      "source": [
        "%%bash --bg \n",
        "nohup tensorflow_model_server \\\n",
        "  --rest_api_port=8503 \\\n",
        "  --model_name=NN_model \\\n",
        "  --model_base_path=\"${MODEL_DIR}\" >server.log 2>&1"
      ]
    },
    {
      "cell_type": "code",
      "execution_count": null,
      "metadata": {
        "colab": {
          "base_uri": "https://localhost:8080/"
        },
        "id": "6asFw5L6GsnO",
        "outputId": "693047a3-caf5-4c12-8dd5-e9fb33d1543c"
      },
      "outputs": [
        {
          "name": "stdout",
          "output_type": "stream",
          "text": [
            "2021-12-15 01:15:11.613171: I tensorflow_serving/model_servers/server_core.cc:591]  (Re-)adding model: NN_model\n",
            "2021-12-15 01:15:11.937604: I tensorflow_serving/core/basic_manager.cc:740] Successfully reserved resources to load servable {name: NN_model version: 1}\n",
            "2021-12-15 01:15:11.937672: I tensorflow_serving/core/loader_harness.cc:66] Approving load for servable version {name: NN_model version: 1}\n",
            "2021-12-15 01:15:11.937707: I tensorflow_serving/core/loader_harness.cc:74] Loading servable version {name: NN_model version: 1}\n",
            "2021-12-15 01:15:11.938250: I external/org_tensorflow/tensorflow/cc/saved_model/reader.cc:43] Reading SavedModel from: /content/drive/MyDrive/Colab Notebooks/NN_model/1\n",
            "2021-12-15 01:15:12.311335: I external/org_tensorflow/tensorflow/cc/saved_model/reader.cc:107] Reading meta graph with tags { serve }\n",
            "2021-12-15 01:15:12.311457: I external/org_tensorflow/tensorflow/cc/saved_model/reader.cc:148] Reading SavedModel debug info (if present) from: /content/drive/MyDrive/Colab Notebooks/NN_model/1\n",
            "2021-12-15 01:15:12.312558: I external/org_tensorflow/tensorflow/core/platform/cpu_feature_guard.cc:151] This TensorFlow binary is optimized with oneAPI Deep Neural Network Library (oneDNN) to use the following CPU instructions in performance-critical operations:  AVX2 FMA\n",
            "To enable them in other operations, rebuild TensorFlow with the appropriate compiler flags.\n",
            "2021-12-15 01:15:12.413127: I external/org_tensorflow/tensorflow/cc/saved_model/loader.cc:210] Restoring SavedModel bundle.\n"
          ]
        }
      ],
      "source": [
        "!tail server.log"
      ]
    },
    {
      "cell_type": "code",
      "execution_count": null,
      "metadata": {
        "id": "6rokppmDMNzi"
      },
      "outputs": [],
      "source": [
        "import json\n",
        "#data2 = json.dumps({'INTAKETERMCODE':[201209],'INTAKECOLLEGEEXPERIENCE': ['Enrolled'], 'SCHOOLCODE': ['CH'], 'PROGRAMLONGNAME': ['Developmental Services Worker'], 'STUDENTLEVELNAME': ['Post Secondary'], 'TIMESTATUSNAME': ['Full-Time'], 'RESIDENCYSTATUSNAME': ['Resident'], 'FUNDINGSOURCENAME': ['GPOG - FT'], 'MAILINGCITYNAME': ['scarborough'],'MAILINGPROVINCENAME': ['Ontario'], 'GENDER': ['F'], 'DISABILITYIND': ['N'], 'MAILINGCOUNTRYNAME': ['Canada'], 'CURRENTSTAYSTATUS': ['Left College - Enrolled 1 Term'], 'FUTURETERMENROL': ['1-0-0-0-0-0-0-0-0-0'], 'ACADEMICPERFORMANCE': ['C - Satisfactory'], 'EXPECTEDGRADTERMCODE': [201405], 'FIRSTYEARPERSISTENCECOUNT': [0], 'AGEGROUPLONGNAME': ['19 to 20'], 'APPLICANTCATEGORYNAME': ['Mature: Domestic  With Post Secondary'], 'PREVEDUCREDLEVELNAME': ['Unclassified']})\n",
        "\n",
        "\n",
        "#print('Data: {} ... {}'.format(data[:50], data[len(data)-52:]))"
      ]
    },
    {
      "cell_type": "code",
      "execution_count": null,
      "metadata": {
        "colab": {
          "base_uri": "https://localhost:8080/"
        },
        "id": "XLWetBb3PlqY",
        "outputId": "2a9d3dc6-1e4c-40cc-bdc7-69272b5d36a0"
      },
      "outputs": [
        {
          "data": {
            "text/plain": [
              "str"
            ]
          },
          "execution_count": 17,
          "metadata": {},
          "output_type": "execute_result"
        }
      ],
      "source": [
        "type(data)"
      ]
    },
    {
      "cell_type": "code",
      "execution_count": null,
      "metadata": {
        "id": "lo2l8NwTL0yw"
      },
      "outputs": [],
      "source": [
        "!pip install -q requests\n",
        "\n",
        "import requests\n",
        "headers = {\"content-type\": \"application/json\"}"
      ]
    },
    {
      "cell_type": "code",
      "execution_count": null,
      "metadata": {
        "id": "DUxmleDYL5rb"
      },
      "outputs": [],
      "source": [
        "json_response = requests.post('http://localhost:8503/v1/models/NN_model:classify', data=data2, headers=headers)\n"
      ]
    },
    {
      "cell_type": "code",
      "execution_count": null,
      "metadata": {
        "colab": {
          "base_uri": "https://localhost:8080/"
        },
        "id": "l-TnmwGkR5AO",
        "outputId": "abc711d1-3030-480f-9721-35301b0b1288"
      },
      "outputs": [
        {
          "name": "stdout",
          "output_type": "stream",
          "text": [
            "<Response [400]>\n"
          ]
        }
      ],
      "source": [
        "print(json_response)"
      ]
    },
    {
      "cell_type": "code",
      "execution_count": null,
      "metadata": {
        "colab": {
          "base_uri": "https://localhost:8080/"
        },
        "id": "M6u2kBNmPZRF",
        "outputId": "fcd58e3b-e92c-4fee-da05-4f405ba65734"
      },
      "outputs": [
        {
          "name": "stdout",
          "output_type": "stream",
          "text": [
            "{'error': 'JSON Value: {\\n    \"INTAKETERMCODE\": [\\n        201209\\n    ],\\n    \"INTAKECOLLEGEEXPERIENCE\": [\\n        \"Enrolled\"\\n    ],\\n    \"SCHOOLCODE\": [\\n        \"CH\"\\n    ],\\n    \"PROGRAMLONGNAME\": [\\n        \"Developmental Services Worker\"\\n    ],\\n    \"STUDENTLEVELNAME\": [\\n        \"Post Secondary\"\\n    ],\\n    \"TIMESTATUSNAME\": [\\n        \"Full-Time\"\\n    ],\\n    \"RESIDENCYSTATUSNAME\": [\\n        \"Resident\"\\n    ],\\n    \"FUNDINGSOURCENAME\": [\\n        \"GPOG - FT\"\\n    ],\\n    \"MAILINGCITYNAME\": [\\n        \"scarborough\"\\n    ],\\n    \"MAILINGPROVINCENAME\": [\\n        \"Ontario\"\\n    ],\\n    \"GENDER\": [\\n        \"F\"\\n    ],\\n    \"DISABILITYIND\": [\\n        \"N\"\\n    ],\\n    \"MAILINGCOUNTRYNAME\": [\\n        \"Canada\"\\n    ],\\n    \"CURRENTSTAYSTATUS\": [\\n        \"Left College - Enrolled 1 Term\"\\n    ],\\n    \"FUTURETERMENROL\": [\\n        \"1-0-0-0-0-0-0-0-0-0\"\\n    ],\\n    \"ACADEMICPERFORMANCE\": [\\n        \"C - Satisfactory\"\\n    ],\\n    \"EXPECTEDGRADTERMCODE\": [\\n        201405\\n    ],\\n    \"FIRSTYEARPERSISTENCECOUNT\": [\\n        0\\n    ],\\n    \"AGEGROUPLONGNAME\": [\\n        \"19 to 20\"\\n    ],\\n    \"APPLICANTCATEGORYNAME\": [\\n        \"Mature: Domestic  With Post Secondary\"\\n    ],\\n    \"PREVEDUCREDLEVELNAME\": [\\n        \"Unclassified\"\\n    ]\\n} When method is classify, key \\'examples\\' is expected and was not found'}\n"
          ]
        }
      ],
      "source": [
        "predictions = json.loads(json_response.text)\n",
        "print(predictions)"
      ]
    },
    {
      "cell_type": "code",
      "execution_count": null,
      "metadata": {
        "colab": {
          "base_uri": "https://localhost:8080/"
        },
        "id": "yQy9m1H9piFb",
        "outputId": "c32a6674-9c38-4c43-e75a-b5388180fc7e"
      },
      "outputs": [
        {
          "name": "stdout",
          "output_type": "stream",
          "text": [
            "Mounted at /content/drive\n"
          ]
        }
      ],
      "source": [
        "from google.colab import drive\n",
        "drive.mount('/content/drive')"
      ]
    },
    {
      "cell_type": "code",
      "execution_count": null,
      "metadata": {
        "colab": {
          "base_uri": "https://localhost:8080/",
          "height": 572
        },
        "id": "2zTlE6RXQYpZ",
        "outputId": "52e38062-2c4f-43ba-930a-f342a5729718"
      },
      "outputs": [
        {
          "name": "stdout",
          "output_type": "stream",
          "text": [
            "Collecting CherryPy\n",
            "  Downloading CherryPy-18.6.1-py2.py3-none-any.whl (419 kB)\n",
            "\u001b[K     |████████████████████████████████| 419 kB 4.3 MB/s \n",
            "\u001b[?25hCollecting jaraco.collections\n",
            "  Downloading jaraco.collections-3.4.0-py3-none-any.whl (10 kB)\n",
            "Collecting cheroot>=8.2.1\n",
            "  Downloading cheroot-8.5.2-py2.py3-none-any.whl (97 kB)\n",
            "\u001b[K     |████████████████████████████████| 97 kB 6.3 MB/s \n",
            "\u001b[?25hRequirement already satisfied: more-itertools in /usr/local/lib/python3.7/dist-packages (from CherryPy) (8.12.0)\n",
            "Collecting portend>=2.1.1\n",
            "  Downloading portend-3.1.0-py3-none-any.whl (5.3 kB)\n",
            "Collecting zc.lockfile\n",
            "  Downloading zc.lockfile-2.0-py2.py3-none-any.whl (9.7 kB)\n",
            "Collecting jaraco.functools\n",
            "  Downloading jaraco.functools-3.4.0-py3-none-any.whl (6.9 kB)\n",
            "Requirement already satisfied: six>=1.11.0 in /usr/local/lib/python3.7/dist-packages (from cheroot>=8.2.1->CherryPy) (1.15.0)\n",
            "Collecting tempora>=1.8\n",
            "  Downloading tempora-4.1.2-py3-none-any.whl (15 kB)\n",
            "Requirement already satisfied: pytz in /usr/local/lib/python3.7/dist-packages (from tempora>=1.8->portend>=2.1.1->CherryPy) (2018.9)\n",
            "Collecting jaraco.text\n",
            "  Downloading jaraco.text-3.6.0-py3-none-any.whl (8.1 kB)\n",
            "Collecting jaraco.classes\n",
            "  Downloading jaraco.classes-3.2.1-py3-none-any.whl (5.6 kB)\n",
            "Requirement already satisfied: importlib-resources in /usr/local/lib/python3.7/dist-packages (from jaraco.text->jaraco.collections->CherryPy) (5.4.0)\n",
            "Requirement already satisfied: zipp>=3.1.0 in /usr/local/lib/python3.7/dist-packages (from importlib-resources->jaraco.text->jaraco.collections->CherryPy) (3.6.0)\n",
            "Requirement already satisfied: setuptools in /usr/local/lib/python3.7/dist-packages (from zc.lockfile->CherryPy) (57.4.0)\n",
            "Installing collected packages: jaraco.functools, tempora, jaraco.text, jaraco.classes, zc.lockfile, portend, jaraco.collections, cheroot, CherryPy\n",
            "Successfully installed CherryPy-18.6.1 cheroot-8.5.2 jaraco.classes-3.2.1 jaraco.collections-3.4.0 jaraco.functools-3.4.0 jaraco.text-3.6.0 portend-3.1.0 tempora-4.1.2 zc.lockfile-2.0\n",
            "https://0ajt86xsmbyv-496ff2e9c6d22116-8502-colab.googleusercontent.com/\n"
          ]
        }
      ],
      "source": [
        "!pip install CherryPy #webserver package\n",
        "\n",
        "#bind the port 8888 and get a weblink to access\n",
        "from google.colab.output import eval_js\n",
        "print(eval_js(\"google.colab.kernel.proxyPort(8502)\"))"
      ]
    },
    {
      "cell_type": "code",
      "execution_count": null,
      "metadata": {
        "colab": {
          "base_uri": "https://localhost:8080/"
        },
        "id": "83rUTW6VbdH5",
        "outputId": "e7edd0f5-37f1-43e3-8b6c-ff633be22ad9"
      },
      "outputs": [
        {
          "name": "stdout",
          "output_type": "stream",
          "text": [
            "Collecting flask-ngrok\n",
            "  Downloading flask_ngrok-0.0.25-py3-none-any.whl (3.1 kB)\n",
            "Requirement already satisfied: Flask>=0.8 in /usr/local/lib/python3.7/dist-packages (from flask-ngrok) (1.1.4)\n",
            "Requirement already satisfied: requests in /usr/local/lib/python3.7/dist-packages (from flask-ngrok) (2.23.0)\n",
            "Requirement already satisfied: click<8.0,>=5.1 in /usr/local/lib/python3.7/dist-packages (from Flask>=0.8->flask-ngrok) (7.1.2)\n",
            "Requirement already satisfied: itsdangerous<2.0,>=0.24 in /usr/local/lib/python3.7/dist-packages (from Flask>=0.8->flask-ngrok) (1.1.0)\n",
            "Requirement already satisfied: Jinja2<3.0,>=2.10.1 in /usr/local/lib/python3.7/dist-packages (from Flask>=0.8->flask-ngrok) (2.11.3)\n",
            "Requirement already satisfied: Werkzeug<2.0,>=0.15 in /usr/local/lib/python3.7/dist-packages (from Flask>=0.8->flask-ngrok) (1.0.1)\n",
            "Requirement already satisfied: MarkupSafe>=0.23 in /usr/local/lib/python3.7/dist-packages (from Jinja2<3.0,>=2.10.1->Flask>=0.8->flask-ngrok) (2.0.1)\n",
            "Requirement already satisfied: urllib3!=1.25.0,!=1.25.1,<1.26,>=1.21.1 in /usr/local/lib/python3.7/dist-packages (from requests->flask-ngrok) (1.24.3)\n",
            "Requirement already satisfied: certifi>=2017.4.17 in /usr/local/lib/python3.7/dist-packages (from requests->flask-ngrok) (2021.10.8)\n",
            "Requirement already satisfied: chardet<4,>=3.0.2 in /usr/local/lib/python3.7/dist-packages (from requests->flask-ngrok) (3.0.4)\n",
            "Requirement already satisfied: idna<3,>=2.5 in /usr/local/lib/python3.7/dist-packages (from requests->flask-ngrok) (2.10)\n",
            "Installing collected packages: flask-ngrok\n",
            "Successfully installed flask-ngrok-0.0.25\n",
            "Collecting flask-bootstrap\n",
            "  Downloading Flask-Bootstrap-3.3.7.1.tar.gz (456 kB)\n",
            "\u001b[K     |████████████████████████████████| 456 kB 4.1 MB/s \n",
            "\u001b[?25hRequirement already satisfied: Flask>=0.8 in /usr/local/lib/python3.7/dist-packages (from flask-bootstrap) (1.1.4)\n",
            "Collecting dominate\n",
            "  Downloading dominate-2.6.0-py2.py3-none-any.whl (29 kB)\n",
            "Collecting visitor\n",
            "  Downloading visitor-0.1.3.tar.gz (3.3 kB)\n",
            "Requirement already satisfied: Jinja2<3.0,>=2.10.1 in /usr/local/lib/python3.7/dist-packages (from Flask>=0.8->flask-bootstrap) (2.11.3)\n",
            "Requirement already satisfied: Werkzeug<2.0,>=0.15 in /usr/local/lib/python3.7/dist-packages (from Flask>=0.8->flask-bootstrap) (1.0.1)\n",
            "Requirement already satisfied: itsdangerous<2.0,>=0.24 in /usr/local/lib/python3.7/dist-packages (from Flask>=0.8->flask-bootstrap) (1.1.0)\n",
            "Requirement already satisfied: click<8.0,>=5.1 in /usr/local/lib/python3.7/dist-packages (from Flask>=0.8->flask-bootstrap) (7.1.2)\n",
            "Requirement already satisfied: MarkupSafe>=0.23 in /usr/local/lib/python3.7/dist-packages (from Jinja2<3.0,>=2.10.1->Flask>=0.8->flask-bootstrap) (2.0.1)\n",
            "Building wheels for collected packages: flask-bootstrap, visitor\n",
            "  Building wheel for flask-bootstrap (setup.py) ... \u001b[?25l\u001b[?25hdone\n",
            "  Created wheel for flask-bootstrap: filename=Flask_Bootstrap-3.3.7.1-py3-none-any.whl size=460124 sha256=ecab50269cc9cef8b1863a5bccd0887ac9f0a4586de54deecb051baf6f1f0071\n",
            "  Stored in directory: /root/.cache/pip/wheels/67/a2/d6/50d039c9b59b4caca6d7b53839c8100354a52ab7553d2456eb\n",
            "  Building wheel for visitor (setup.py) ... \u001b[?25l\u001b[?25hdone\n",
            "  Created wheel for visitor: filename=visitor-0.1.3-py3-none-any.whl size=3943 sha256=a06b0c4912629498a7f48e409e9b6ee3e3c86501ae7da37aa1f2f6f776d0dad7\n",
            "  Stored in directory: /root/.cache/pip/wheels/64/34/11/053f47218984c9a31a00f911ed98dda036b867481dcc527a12\n",
            "Successfully built flask-bootstrap visitor\n",
            "Installing collected packages: visitor, dominate, flask-bootstrap\n",
            "Successfully installed dominate-2.6.0 flask-bootstrap-3.3.7.1 visitor-0.1.3\n"
          ]
        }
      ],
      "source": [
        "!pip install flask-ngrok\n",
        "!pip install flask-bootstrap"
      ]
    },
    {
      "cell_type": "code",
      "execution_count": null,
      "metadata": {
        "id": "yUj-gCZvbiH9"
      },
      "outputs": [],
      "source": [
        "from flask_ngrok import run_with_ngrok\n",
        "from flask import Flask, render_template , request \n",
        "import os"
      ]
    },
    {
      "cell_type": "code",
      "execution_count": null,
      "metadata": {
        "colab": {
          "base_uri": "https://localhost:8080/"
        },
        "id": "34AuDFjIbrha",
        "outputId": "a332be47-7de4-475d-9256-1f7dcf4b9a96"
      },
      "outputs": [
        {
          "name": "stdout",
          "output_type": "stream",
          "text": [
            " * Serving Flask app \"__main__\" (lazy loading)\n",
            " * Environment: production\n",
            "\u001b[31m   WARNING: This is a development server. Do not use it in a production deployment.\u001b[0m\n",
            "\u001b[2m   Use a production WSGI server instead.\u001b[0m\n",
            " * Debug mode: off\n"
          ]
        },
        {
          "name": "stderr",
          "output_type": "stream",
          "text": [
            " * Running on http://127.0.0.1:5000/ (Press CTRL+C to quit)\n"
          ]
        },
        {
          "name": "stdout",
          "output_type": "stream",
          "text": [
            " * Running on http://f6ef-35-236-128-142.ngrok.io\n",
            " * Traffic stats available on http://127.0.0.1:4040\n"
          ]
        }
      ],
      "source": [
        "app = Flask(__name__)\n",
        "# app.config['UPLOAD_FOLDER'] = PEOPLE_FOLDER\n",
        "run_with_ngrok(app)\n",
        "@app.route('/')\n",
        "def home():\n",
        "  # full_filename = os.path.join(app.config['UPLOAD_FOLDER'], 'Shovon.jpg')\n",
        "  return render_template('Webp.html',user_image = full_filename)\n",
        "if __name__ == '__main__':\n",
        "   app.run()"
      ]
    },
    {
      "cell_type": "code",
      "execution_count": null,
      "metadata": {
        "colab": {
          "base_uri": "https://localhost:8080/"
        },
        "id": "TOuKv_MIcdK4",
        "outputId": "b630b9cb-90e3-40ea-c002-677d2ae0a937"
      },
      "outputs": [
        {
          "name": "stdout",
          "output_type": "stream",
          "text": [
            "Mounted at /content/gdrive\n",
            " * Serving Flask app \"__main__\" (lazy loading)\n",
            " * Environment: production\n",
            "\u001b[31m   WARNING: This is a development server. Do not use it in a production deployment.\u001b[0m\n",
            "\u001b[2m   Use a production WSGI server instead.\u001b[0m\n",
            " * Debug mode: off\n"
          ]
        },
        {
          "name": "stderr",
          "output_type": "stream",
          "text": [
            " * Running on http://127.0.0.1:5000/ (Press CTRL+C to quit)\n"
          ]
        },
        {
          "name": "stdout",
          "output_type": "stream",
          "text": [
            " * Running on http://12d3-35-236-128-142.ngrok.io\n",
            " * Traffic stats available on http://127.0.0.1:4040\n"
          ]
        },
        {
          "name": "stderr",
          "output_type": "stream",
          "text": [
            "[2021-12-15 00:18:44,000] ERROR in app: Exception on / [GET]\n",
            "Traceback (most recent call last):\n",
            "  File \"/usr/local/lib/python3.7/dist-packages/flask/app.py\", line 2447, in wsgi_app\n",
            "    response = self.full_dispatch_request()\n",
            "  File \"/usr/local/lib/python3.7/dist-packages/flask/app.py\", line 1952, in full_dispatch_request\n",
            "    rv = self.handle_user_exception(e)\n",
            "  File \"/usr/local/lib/python3.7/dist-packages/flask/app.py\", line 1821, in handle_user_exception\n",
            "    reraise(exc_type, exc_value, tb)\n",
            "  File \"/usr/local/lib/python3.7/dist-packages/flask/_compat.py\", line 39, in reraise\n",
            "    raise value\n",
            "  File \"/usr/local/lib/python3.7/dist-packages/flask/app.py\", line 1950, in full_dispatch_request\n",
            "    rv = self.dispatch_request()\n",
            "  File \"/usr/local/lib/python3.7/dist-packages/flask/app.py\", line 1936, in dispatch_request\n",
            "    return self.view_functions[rule.endpoint](**req.view_args)\n",
            "  File \"<ipython-input-27-df47448389ae>\", line 10, in home\n",
            "    return render_template('Webp.html',user_image = full_filename)\n",
            "  File \"/usr/local/lib/python3.7/dist-packages/flask/templating.py\", line 138, in render_template\n",
            "    ctx.app.jinja_env.get_or_select_template(template_name_or_list),\n",
            "  File \"/usr/local/lib/python3.7/dist-packages/jinja2/environment.py\", line 930, in get_or_select_template\n",
            "    return self.get_template(template_name_or_list, parent, globals)\n",
            "  File \"/usr/local/lib/python3.7/dist-packages/jinja2/environment.py\", line 883, in get_template\n",
            "    return self._load_template(name, self.make_globals(globals))\n",
            "  File \"/usr/local/lib/python3.7/dist-packages/jinja2/environment.py\", line 857, in _load_template\n",
            "    template = self.loader.load(self, name, globals)\n",
            "  File \"/usr/local/lib/python3.7/dist-packages/jinja2/loaders.py\", line 115, in load\n",
            "    source, filename, uptodate = self.get_source(environment, name)\n",
            "  File \"/usr/local/lib/python3.7/dist-packages/flask/templating.py\", line 60, in get_source\n",
            "    return self._get_source_fast(environment, template)\n",
            "  File \"/usr/local/lib/python3.7/dist-packages/flask/templating.py\", line 89, in _get_source_fast\n",
            "    raise TemplateNotFound(template)\n",
            "jinja2.exceptions.TemplateNotFound: Webp.html\n",
            "127.0.0.1 - - [15/Dec/2021 00:18:44] \"\u001b[35m\u001b[1mGET / HTTP/1.1\u001b[0m\" 500 -\n",
            "127.0.0.1 - - [15/Dec/2021 00:18:44] \"\u001b[33mGET /favicon.ico HTTP/1.1\u001b[0m\" 404 -\n",
            "[2021-12-15 00:18:57,679] ERROR in app: Exception on / [GET]\n",
            "Traceback (most recent call last):\n",
            "  File \"/usr/local/lib/python3.7/dist-packages/flask/app.py\", line 2447, in wsgi_app\n",
            "    response = self.full_dispatch_request()\n",
            "  File \"/usr/local/lib/python3.7/dist-packages/flask/app.py\", line 1952, in full_dispatch_request\n",
            "    rv = self.handle_user_exception(e)\n",
            "  File \"/usr/local/lib/python3.7/dist-packages/flask/app.py\", line 1821, in handle_user_exception\n",
            "    reraise(exc_type, exc_value, tb)\n",
            "  File \"/usr/local/lib/python3.7/dist-packages/flask/_compat.py\", line 39, in reraise\n",
            "    raise value\n",
            "  File \"/usr/local/lib/python3.7/dist-packages/flask/app.py\", line 1950, in full_dispatch_request\n",
            "    rv = self.dispatch_request()\n",
            "  File \"/usr/local/lib/python3.7/dist-packages/flask/app.py\", line 1936, in dispatch_request\n",
            "    return self.view_functions[rule.endpoint](**req.view_args)\n",
            "  File \"<ipython-input-27-df47448389ae>\", line 10, in home\n",
            "    return render_template('Webp.html',user_image = full_filename)\n",
            "  File \"/usr/local/lib/python3.7/dist-packages/flask/templating.py\", line 138, in render_template\n",
            "    ctx.app.jinja_env.get_or_select_template(template_name_or_list),\n",
            "  File \"/usr/local/lib/python3.7/dist-packages/jinja2/environment.py\", line 930, in get_or_select_template\n",
            "    return self.get_template(template_name_or_list, parent, globals)\n",
            "  File \"/usr/local/lib/python3.7/dist-packages/jinja2/environment.py\", line 883, in get_template\n",
            "    return self._load_template(name, self.make_globals(globals))\n",
            "  File \"/usr/local/lib/python3.7/dist-packages/jinja2/environment.py\", line 857, in _load_template\n",
            "    template = self.loader.load(self, name, globals)\n",
            "  File \"/usr/local/lib/python3.7/dist-packages/jinja2/loaders.py\", line 115, in load\n",
            "    source, filename, uptodate = self.get_source(environment, name)\n",
            "  File \"/usr/local/lib/python3.7/dist-packages/flask/templating.py\", line 60, in get_source\n",
            "    return self._get_source_fast(environment, template)\n",
            "  File \"/usr/local/lib/python3.7/dist-packages/flask/templating.py\", line 89, in _get_source_fast\n",
            "    raise TemplateNotFound(template)\n",
            "jinja2.exceptions.TemplateNotFound: Webp.html\n",
            "127.0.0.1 - - [15/Dec/2021 00:18:57] \"\u001b[35m\u001b[1mGET / HTTP/1.1\u001b[0m\" 500 -\n"
          ]
        }
      ],
      "source": [
        "from google.colab import drive\n",
        "drive.mount('/content/gdrive')\n",
        "PEOPLE_FOLDER = os.path.join('static', 'people_photo')\n",
        "app = Flask(__name__, template_folder='/content/static')\n",
        "app.config['UPLOAD_FOLDER'] = PEOPLE_FOLDER\n",
        "run_with_ngrok(app)\n",
        "@app.route('/')\n",
        "def home():\n",
        "  full_filename = os.path.join(app.config['UPLOAD_FOLDER'], 'Shovon.jpg')\n",
        "  return render_template('Webp.html',user_image = full_filename)\n",
        "if __name__ == '__main__':\n",
        "   app.run()"
      ]
    },
    {
      "cell_type": "code",
      "execution_count": null,
      "metadata": {
        "colab": {
          "base_uri": "https://localhost:8080/"
        },
        "id": "M2y4vMfxemg5",
        "outputId": "2176ce83-d324-4468-b261-7dc2d6888149"
      },
      "outputs": [
        {
          "name": "stdout",
          "output_type": "stream",
          "text": [
            "Archive:  /content/ngrok-stable-windows-amd64.zip\n",
            "  inflating: ngrok.exe               \n"
          ]
        }
      ],
      "source": [
        "!unzip /content/ngrok-stable-windows-amd64.zip"
      ]
    },
    {
      "cell_type": "code",
      "execution_count": null,
      "metadata": {
        "colab": {
          "base_uri": "https://localhost:8080/"
        },
        "id": "lneNa6fPfEZz",
        "outputId": "66673f50-79ee-444e-aea7-2af1122dea25"
      },
      "outputs": [
        {
          "name": "stdout",
          "output_type": "stream",
          "text": [
            "/bin/bash: /content/ngrok.exe: cannot execute binary file: Exec format error\n"
          ]
        }
      ],
      "source": [
        "!/content/ngrok.exe authtoken 1ZnMUpokwoYXoslBBqFfbxGbx1n_f9kcqhHLMWfzFmQn5j3h"
      ]
    },
    {
      "cell_type": "code",
      "execution_count": null,
      "metadata": {
        "colab": {
          "base_uri": "https://localhost:8080/"
        },
        "id": "JpRNgkyzgV5J",
        "outputId": "9a2b8d00-6c81-453c-bfee-e43bbc48418b"
      },
      "outputs": [
        {
          "name": "stdout",
          "output_type": "stream",
          "text": [
            "NVIDIA-SMI has failed because it couldn't communicate with the NVIDIA driver. Make sure that the latest NVIDIA driver is installed and running.\n",
            "\n",
            "nvcc: NVIDIA (R) Cuda compiler driver\n",
            "Copyright (c) 2005-2020 NVIDIA Corporation\n",
            "Built on Mon_Oct_12_20:09:46_PDT_2020\n",
            "Cuda compilation tools, release 11.1, V11.1.105\n",
            "Build cuda_11.1.TC455_06.29190527_0\n"
          ]
        }
      ],
      "source": [
        "!nvidia-smi\n",
        "!/usr/local/cuda/bin/nvcc --version"
      ]
    },
    {
      "cell_type": "code",
      "execution_count": null,
      "metadata": {
        "colab": {
          "base_uri": "https://localhost:8080/"
        },
        "id": "Zp3fVO5ugaeD",
        "outputId": "83e0b314-1159-4486-8447-ee79d12b2015"
      },
      "outputs": [
        {
          "name": "stdout",
          "output_type": "stream",
          "text": [
            "Drive already mounted at /content/gdrive/; to attempt to forcibly remount, call drive.mount(\"/content/gdrive/\", force_remount=True).\n"
          ]
        }
      ],
      "source": [
        "from google.colab import drive\n",
        "drive.mount('/content/gdrive/')"
      ]
    },
    {
      "cell_type": "code",
      "execution_count": null,
      "metadata": {
        "colab": {
          "base_uri": "https://localhost:8080/"
        },
        "id": "GJZXYn8ogdSw",
        "outputId": "6cf0ee67-6f11-4cc5-9395-5a012a3401d4"
      },
      "outputs": [
        {
          "name": "stdout",
          "output_type": "stream",
          "text": [
            "ls: cannot access '/content/gdrive/My Drive/ssh_files/': No such file or directory\n"
          ]
        }
      ],
      "source": [
        "!ls '/content/gdrive/My Drive/ssh_files/'\n"
      ]
    },
    {
      "cell_type": "code",
      "execution_count": null,
      "metadata": {
        "colab": {
          "base_uri": "https://localhost:8080/"
        },
        "id": "FAyqBitXeEXf",
        "outputId": "0b741cb6-8440-4989-876f-39128f3bfbdc"
      },
      "outputs": [
        {
          "name": "stdout",
          "output_type": "stream",
          "text": [
            " * Serving Flask app \"__main__\" (lazy loading)\n",
            " * Environment: production\n",
            "\u001b[31m   WARNING: This is a development server. Do not use it in a production deployment.\u001b[0m\n",
            "\u001b[2m   Use a production WSGI server instead.\u001b[0m\n",
            " * Debug mode: off\n"
          ]
        },
        {
          "name": "stderr",
          "output_type": "stream",
          "text": [
            " * Running on http://127.0.0.1:5000/ (Press CTRL+C to quit)\n"
          ]
        },
        {
          "name": "stdout",
          "output_type": "stream",
          "text": [
            " * Running on http://e1f5-35-236-128-142.ngrok.io\n",
            " * Traffic stats available on http://127.0.0.1:4040\n"
          ]
        },
        {
          "name": "stderr",
          "output_type": "stream",
          "text": [
            "127.0.0.1 - - [15/Dec/2021 00:24:11] \"\u001b[33mGET / HTTP/1.1\u001b[0m\" 404 -\n",
            "127.0.0.1 - - [15/Dec/2021 00:24:14] \"\u001b[33mGET / HTTP/1.1\u001b[0m\" 404 -\n",
            "127.0.0.1 - - [15/Dec/2021 00:24:15] \"\u001b[33mGET /favicon.ico HTTP/1.1\u001b[0m\" 404 -\n",
            "127.0.0.1 - - [15/Dec/2021 00:24:24] \"\u001b[37mGET /success/as HTTP/1.1\u001b[0m\" 200 -\n",
            "127.0.0.1 - - [15/Dec/2021 00:24:24] \"\u001b[33mGET /favicon.ico HTTP/1.1\u001b[0m\" 404 -\n",
            "127.0.0.1 - - [15/Dec/2021 00:24:30] \"\u001b[37mGET /success/as HTTP/1.1\u001b[0m\" 200 -\n",
            "127.0.0.1 - - [15/Dec/2021 00:24:36] \"\u001b[33mGET / HTTP/1.1\u001b[0m\" 404 -\n"
          ]
        }
      ],
      "source": [
        "app = Flask(__name__)\n",
        "\n",
        "run_with_ngrok(app)\n",
        "\n",
        "@app.route('/success/<name>')\n",
        "def success(name):\n",
        "   return 'welcome %s' % name\n",
        "\n",
        "@app.route('/login', methods = ['POST', 'GET'])\n",
        "def login():\n",
        "   if request.method == 'POST':\n",
        "      user = request.form['nm']\n",
        "      return redirect(url_for('success',name = user))\n",
        "   else:\n",
        "      user = request.args.get('nm')\n",
        "      return redirect(url_for('success',name = user))\n",
        "\n",
        "if __name__ == '__main__':\n",
        "   app.run()"
      ]
    },
    {
      "cell_type": "code",
      "execution_count": null,
      "metadata": {
        "colab": {
          "base_uri": "https://localhost:8080/"
        },
        "id": "1c3H3Cm4kmYR",
        "outputId": "bdd1bead-fc9b-42da-d940-bf1293400a00"
      },
      "outputs": [
        {
          "name": "stdout",
          "output_type": "stream",
          "text": [
            "Requirement already satisfied: flask-ngrok in /usr/local/lib/python3.7/dist-packages (0.0.25)\n",
            "Requirement already satisfied: requests in /usr/local/lib/python3.7/dist-packages (from flask-ngrok) (2.23.0)\n",
            "Requirement already satisfied: Flask>=0.8 in /usr/local/lib/python3.7/dist-packages (from flask-ngrok) (1.1.4)\n",
            "Requirement already satisfied: itsdangerous<2.0,>=0.24 in /usr/local/lib/python3.7/dist-packages (from Flask>=0.8->flask-ngrok) (1.1.0)\n",
            "Requirement already satisfied: click<8.0,>=5.1 in /usr/local/lib/python3.7/dist-packages (from Flask>=0.8->flask-ngrok) (7.1.2)\n",
            "Requirement already satisfied: Werkzeug<2.0,>=0.15 in /usr/local/lib/python3.7/dist-packages (from Flask>=0.8->flask-ngrok) (1.0.1)\n",
            "Requirement already satisfied: Jinja2<3.0,>=2.10.1 in /usr/local/lib/python3.7/dist-packages (from Flask>=0.8->flask-ngrok) (2.11.3)\n",
            "Requirement already satisfied: MarkupSafe>=0.23 in /usr/local/lib/python3.7/dist-packages (from Jinja2<3.0,>=2.10.1->Flask>=0.8->flask-ngrok) (2.0.1)\n",
            "Requirement already satisfied: idna<3,>=2.5 in /usr/local/lib/python3.7/dist-packages (from requests->flask-ngrok) (2.10)\n",
            "Requirement already satisfied: chardet<4,>=3.0.2 in /usr/local/lib/python3.7/dist-packages (from requests->flask-ngrok) (3.0.4)\n",
            "Requirement already satisfied: certifi>=2017.4.17 in /usr/local/lib/python3.7/dist-packages (from requests->flask-ngrok) (2021.10.8)\n",
            "Requirement already satisfied: urllib3!=1.25.0,!=1.25.1,<1.26,>=1.21.1 in /usr/local/lib/python3.7/dist-packages (from requests->flask-ngrok) (1.24.3)\n"
          ]
        }
      ],
      "source": [
        "!pip install flask-ngrok\n"
      ]
    },
    {
      "cell_type": "code",
      "execution_count": null,
      "metadata": {
        "colab": {
          "background_save": true,
          "base_uri": "https://localhost:8080/"
        },
        "id": "x7ywPypykojX",
        "outputId": "9746f817-49ad-427e-df17-2d4e22bcf1fe"
      },
      "outputs": [
        {
          "name": "stdout",
          "output_type": "stream",
          "text": [
            " * Serving Flask app \"__main__\" (lazy loading)\n",
            " * Environment: production\n",
            "\u001b[31m   WARNING: This is a development server. Do not use it in a production deployment.\u001b[0m\n",
            "\u001b[2m   Use a production WSGI server instead.\u001b[0m\n",
            " * Debug mode: off\n"
          ]
        },
        {
          "name": "stderr",
          "output_type": "stream",
          "text": [
            " * Running on http://127.0.0.1:5000/ (Press CTRL+C to quit)\n"
          ]
        },
        {
          "name": "stdout",
          "output_type": "stream",
          "text": [
            " * Running on http://7d38-35-236-128-142.ngrok.io\n",
            " * Traffic stats available on http://127.0.0.1:4040\n"
          ]
        },
        {
          "name": "stderr",
          "output_type": "stream",
          "text": [
            "127.0.0.1 - - [15/Dec/2021 00:53:12] \"\u001b[37mGET / HTTP/1.1\u001b[0m\" 200 -\n",
            "127.0.0.1 - - [15/Dec/2021 00:53:12] \"\u001b[33mGET /favicon.ico HTTP/1.1\u001b[0m\" 404 -\n",
            "127.0.0.1 - - [15/Dec/2021 00:53:13] \"\u001b[37mGET / HTTP/1.1\u001b[0m\" 200 -\n"
          ]
        }
      ],
      "source": [
        "from flask import Flask\n",
        "from flask_ngrok import run_with_ngrok\n",
        "app = Flask(__name__)\n",
        "run_with_ngrok(app)   \n",
        "  \n",
        "@app.route(\"/\")\n",
        "def home():\n",
        "    return \"<h1>GFG is great platform to learn</h1>\"\n",
        "    \n",
        "app.run()"
      ]
    }
  ],
  "metadata": {
    "colab": {
      "collapsed_sections": [],
      "name": "Group6_tensorflow-model-server.ipynb",
      "provenance": []
    },
    "kernelspec": {
      "display_name": "Python 3",
      "name": "python3"
    },
    "language_info": {
      "name": "python"
    }
  },
  "nbformat": 4,
  "nbformat_minor": 0
}